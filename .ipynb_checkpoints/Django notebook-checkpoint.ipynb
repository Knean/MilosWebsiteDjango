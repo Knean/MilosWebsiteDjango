{
 "cells": [
  {
   "cell_type": "code",
   "execution_count": 1,
   "metadata": {},
   "outputs": [],
   "source": [
    "import django\n",
    "django.setup()\n",
    "from tree.models import Tree, Node\n",
    "\n",
    "import os\n",
    "from django.contrib.auth.models import User\n",
    "os.environ[\"DJANGO_ALLOW_ASYNC_UNSAFE\"] = \"true\"\n",
    "\n",
    "#python manage.py shell_plus --notebook"
   ]
  },
  {
   "cell_type": "code",
   "execution_count": 2,
   "metadata": {},
   "outputs": [
    {
     "data": {
      "text/html": [
       "<div>\n",
       "<style scoped>\n",
       "    .dataframe tbody tr th:only-of-type {\n",
       "        vertical-align: middle;\n",
       "    }\n",
       "\n",
       "    .dataframe tbody tr th {\n",
       "        vertical-align: top;\n",
       "    }\n",
       "\n",
       "    .dataframe thead th {\n",
       "        text-align: right;\n",
       "    }\n",
       "</style>\n",
       "<table border=\"1\" class=\"dataframe\">\n",
       "  <thead>\n",
       "    <tr style=\"text-align: right;\">\n",
       "      <th></th>\n",
       "      <th>id</th>\n",
       "      <th>sold</th>\n",
       "      <th>changed</th>\n",
       "      <th>tree_id</th>\n",
       "      <th>childrenMissing</th>\n",
       "      <th>user_id</th>\n",
       "      <th>child1</th>\n",
       "      <th>child1Value</th>\n",
       "      <th>child2</th>\n",
       "      <th>child2Value</th>\n",
       "      <th>value</th>\n",
       "    </tr>\n",
       "    <tr>\n",
       "      <th>number</th>\n",
       "      <th></th>\n",
       "      <th></th>\n",
       "      <th></th>\n",
       "      <th></th>\n",
       "      <th></th>\n",
       "      <th></th>\n",
       "      <th></th>\n",
       "      <th></th>\n",
       "      <th></th>\n",
       "      <th></th>\n",
       "      <th></th>\n",
       "    </tr>\n",
       "  </thead>\n",
       "  <tbody>\n",
       "    <tr>\n",
       "      <th>1</th>\n",
       "      <td>2</td>\n",
       "      <td>False</td>\n",
       "      <td>False</td>\n",
       "      <td>1</td>\n",
       "      <td>0</td>\n",
       "      <td>3</td>\n",
       "      <td>2</td>\n",
       "      <td>63</td>\n",
       "      <td>3</td>\n",
       "      <td>236</td>\n",
       "      <td>299</td>\n",
       "    </tr>\n",
       "    <tr>\n",
       "      <th>2</th>\n",
       "      <td>3</td>\n",
       "      <td>False</td>\n",
       "      <td>False</td>\n",
       "      <td>1</td>\n",
       "      <td>0</td>\n",
       "      <td>3</td>\n",
       "      <td>6</td>\n",
       "      <td>31</td>\n",
       "      <td>4</td>\n",
       "      <td>31</td>\n",
       "      <td>62</td>\n",
       "    </tr>\n",
       "    <tr>\n",
       "      <th>3</th>\n",
       "      <td>4</td>\n",
       "      <td>False</td>\n",
       "      <td>False</td>\n",
       "      <td>1</td>\n",
       "      <td>0</td>\n",
       "      <td>3</td>\n",
       "      <td>5</td>\n",
       "      <td>118</td>\n",
       "      <td>7</td>\n",
       "      <td>117</td>\n",
       "      <td>235</td>\n",
       "    </tr>\n",
       "    <tr>\n",
       "      <th>4</th>\n",
       "      <td>5</td>\n",
       "      <td>False</td>\n",
       "      <td>False</td>\n",
       "      <td>1</td>\n",
       "      <td>32</td>\n",
       "      <td>3</td>\n",
       "      <td>10</td>\n",
       "      <td>15</td>\n",
       "      <td>8</td>\n",
       "      <td>15</td>\n",
       "      <td>30</td>\n",
       "    </tr>\n",
       "    <tr>\n",
       "      <th>5</th>\n",
       "      <td>6</td>\n",
       "      <td>False</td>\n",
       "      <td>False</td>\n",
       "      <td>1</td>\n",
       "      <td>24</td>\n",
       "      <td>3</td>\n",
       "      <td>9</td>\n",
       "      <td>7</td>\n",
       "      <td>11</td>\n",
       "      <td>110</td>\n",
       "      <td>117</td>\n",
       "    </tr>\n",
       "    <tr>\n",
       "      <th>...</th>\n",
       "      <td>...</td>\n",
       "      <td>...</td>\n",
       "      <td>...</td>\n",
       "      <td>...</td>\n",
       "      <td>...</td>\n",
       "      <td>...</td>\n",
       "      <td>...</td>\n",
       "      <td>...</td>\n",
       "      <td>...</td>\n",
       "      <td>...</td>\n",
       "      <td>...</td>\n",
       "    </tr>\n",
       "    <tr>\n",
       "      <th>5727</th>\n",
       "      <td>305</td>\n",
       "      <td>False</td>\n",
       "      <td>False</td>\n",
       "      <td>1</td>\n",
       "      <td>62</td>\n",
       "      <td>1</td>\n",
       "      <td>11453</td>\n",
       "      <td>0</td>\n",
       "      <td>11455</td>\n",
       "      <td>0</td>\n",
       "      <td>0</td>\n",
       "    </tr>\n",
       "    <tr>\n",
       "      <th>5729</th>\n",
       "      <td>306</td>\n",
       "      <td>False</td>\n",
       "      <td>False</td>\n",
       "      <td>1</td>\n",
       "      <td>62</td>\n",
       "      <td>1</td>\n",
       "      <td>11457</td>\n",
       "      <td>0</td>\n",
       "      <td>11459</td>\n",
       "      <td>0</td>\n",
       "      <td>0</td>\n",
       "    </tr>\n",
       "    <tr>\n",
       "      <th>5725</th>\n",
       "      <td>307</td>\n",
       "      <td>False</td>\n",
       "      <td>False</td>\n",
       "      <td>1</td>\n",
       "      <td>62</td>\n",
       "      <td>1</td>\n",
       "      <td>11449</td>\n",
       "      <td>0</td>\n",
       "      <td>11451</td>\n",
       "      <td>0</td>\n",
       "      <td>0</td>\n",
       "    </tr>\n",
       "    <tr>\n",
       "      <th>5731</th>\n",
       "      <td>308</td>\n",
       "      <td>False</td>\n",
       "      <td>False</td>\n",
       "      <td>1</td>\n",
       "      <td>62</td>\n",
       "      <td>1</td>\n",
       "      <td>11461</td>\n",
       "      <td>0</td>\n",
       "      <td>11463</td>\n",
       "      <td>0</td>\n",
       "      <td>0</td>\n",
       "    </tr>\n",
       "    <tr>\n",
       "      <th>5723</th>\n",
       "      <td>309</td>\n",
       "      <td>False</td>\n",
       "      <td>False</td>\n",
       "      <td>1</td>\n",
       "      <td>62</td>\n",
       "      <td>1</td>\n",
       "      <td>11445</td>\n",
       "      <td>0</td>\n",
       "      <td>11447</td>\n",
       "      <td>0</td>\n",
       "      <td>0</td>\n",
       "    </tr>\n",
       "  </tbody>\n",
       "</table>\n",
       "<p>300 rows × 11 columns</p>\n",
       "</div>"
      ],
      "text/plain": [
       "         id   sold  changed  tree_id  childrenMissing  user_id  child1  \\\n",
       "number                                                                   \n",
       "1         2  False    False        1                0        3       2   \n",
       "2         3  False    False        1                0        3       6   \n",
       "3         4  False    False        1                0        3       5   \n",
       "4         5  False    False        1               32        3      10   \n",
       "5         6  False    False        1               24        3       9   \n",
       "...     ...    ...      ...      ...              ...      ...     ...   \n",
       "5727    305  False    False        1               62        1   11453   \n",
       "5729    306  False    False        1               62        1   11457   \n",
       "5725    307  False    False        1               62        1   11449   \n",
       "5731    308  False    False        1               62        1   11461   \n",
       "5723    309  False    False        1               62        1   11445   \n",
       "\n",
       "        child1Value  child2  child2Value  value  \n",
       "number                                           \n",
       "1                63       3          236    299  \n",
       "2                31       4           31     62  \n",
       "3               118       7          117    235  \n",
       "4                15       8           15     30  \n",
       "5                 7      11          110    117  \n",
       "...             ...     ...          ...    ...  \n",
       "5727              0   11455            0      0  \n",
       "5729              0   11459            0      0  \n",
       "5725              0   11451            0      0  \n",
       "5731              0   11463            0      0  \n",
       "5723              0   11447            0      0  \n",
       "\n",
       "[300 rows x 11 columns]"
      ]
     },
     "execution_count": 2,
     "metadata": {},
     "output_type": "execute_result"
    }
   ],
   "source": [
    "import pandas as pd\n",
    "import numpy as np\n",
    "import sys\n",
    "tree = Tree.objects.first()\n",
    "nodes = tree.node_set.all().values_list()\n",
    "nodeSet = pd.DataFrame.from_records(\n",
    "    nodes, \n",
    "    columns = [\"id\",\"tree_id\",\"childrenMissing\",\"number\",\"user_id\",\"child1\",\"child1Value\",\"child2\",\"child2Value\"],\n",
    "    index=\"number\")\n",
    "nodeSet[\"value\"]= nodeSet[\"child1Value\"] + nodeSet[\"child2Value\"]\n",
    "nodeSet.insert(1,\"changed\", False)\n",
    "nodeSet.insert(1,\"sold\", False)\n",
    "nodeSet\n"
   ]
  },
  {
   "cell_type": "markdown",
   "metadata": {},
   "source": [
    "get the __ID__"
   ]
  },
  {
   "cell_type": "code",
   "execution_count": 3,
   "metadata": {},
   "outputs": [],
   "source": [
    "id = nodeSet.id.max() + 1\n",
    "#gotta test this\n",
    "id = id if not np.isnan(id) else 1"
   ]
  },
  {
   "cell_type": "markdown",
   "metadata": {},
   "source": [
    "find easiest node to pay __findNodeToPay__"
   ]
  },
  {
   "cell_type": "code",
   "execution_count": 4,
   "metadata": {
    "tags": [
     "findit"
    ]
   },
   "outputs": [
    {
     "data": {
      "text/plain": [
       "id                     6\n",
       "sold               False\n",
       "changed            False\n",
       "tree_id                1\n",
       "childrenMissing       24\n",
       "user_id                3\n",
       "child1                 9\n",
       "child1Value            7\n",
       "child2                11\n",
       "child2Value          110\n",
       "value                117\n",
       "index                  4\n",
       "Name: 5, dtype: object"
      ]
     },
     "execution_count": 4,
     "metadata": {},
     "output_type": "execute_result"
    }
   ],
   "source": [
    "from tree.utilities import childOf, nodeGenerator, getIndex\n",
    "#randomly picked start index\n",
    "startNode = 1 # start node can only be picked but not created\n",
    "nodeSet.sort_values(by = \"childrenMissing\", inplace =True)\n",
    "mask1 = nodeSet.childrenMissing != 0\n",
    "mask2 = nodeSet.apply(lambda node : childOf(startNode, node.name) , axis=1)\n",
    "smallest = nodeSet.loc[mask1 & mask2, \"childrenMissing\"].min()\n",
    "allSmalls = nodeSet.loc[nodeSet.childrenMissing == smallest,:].copy()\n",
    "allSmalls[\"index\"] = allSmalls.apply(lambda node: getIndex(node.name, startNode), axis=1)\n",
    "allSmalls.sort_values(\"index\", inplace = True)\n",
    "payNode = allSmalls.iloc[0]\n",
    "payNode\n"
   ]
  },
  {
   "cell_type": "markdown",
   "metadata": {},
   "source": [
    "__Make Children Table__"
   ]
  },
  {
   "cell_type": "code",
   "execution_count": 5,
   "metadata": {},
   "outputs": [
    {
     "data": {
      "text/html": [
       "<div>\n",
       "<style scoped>\n",
       "    .dataframe tbody tr th:only-of-type {\n",
       "        vertical-align: middle;\n",
       "    }\n",
       "\n",
       "    .dataframe tbody tr th {\n",
       "        vertical-align: top;\n",
       "    }\n",
       "\n",
       "    .dataframe thead th {\n",
       "        text-align: right;\n",
       "    }\n",
       "</style>\n",
       "<table border=\"1\" class=\"dataframe\">\n",
       "  <thead>\n",
       "    <tr style=\"text-align: right;\">\n",
       "      <th></th>\n",
       "      <th>number</th>\n",
       "      <th>value</th>\n",
       "      <th>index</th>\n",
       "      <th>pay</th>\n",
       "    </tr>\n",
       "  </thead>\n",
       "  <tbody>\n",
       "    <tr>\n",
       "      <th>1</th>\n",
       "      <td>11</td>\n",
       "      <td>3</td>\n",
       "      <td>2.0</td>\n",
       "      <td>0</td>\n",
       "    </tr>\n",
       "    <tr>\n",
       "      <th>0</th>\n",
       "      <td>9</td>\n",
       "      <td>7</td>\n",
       "      <td>1.0</td>\n",
       "      <td>0</td>\n",
       "    </tr>\n",
       "  </tbody>\n",
       "</table>\n",
       "</div>"
      ],
      "text/plain": [
       "   number  value  index  pay\n",
       "1      11      3    2.0    0\n",
       "0       9      7    1.0    0"
      ]
     },
     "execution_count": 5,
     "metadata": {},
     "output_type": "execute_result"
    }
   ],
   "source": [
    "# this amount is the number of nodes the user buys\n",
    "targetValue = 31\n",
    "# ideally each child would be eat least 31\n",
    "#using copy just for testing\n",
    "#children = nodeSet.loc[[payNode.child1, payNode.child2]].copy()\n",
    "children = pd.DataFrame([\n",
    "    [payNode.child1, payNode.child1Value],\n",
    "    [payNode.child2, payNode.child2Value]],\n",
    "    columns = [\"number\",\"value\"])\n",
    "#if child does not exist it will throw error\n",
    "\n",
    "children[\"index\"] = children.apply(lambda kid: getIndex(kid.number, payNode.name), axis = 1)\n",
    "children[\"pay\"] = 0\n",
    "#children.sort_values(\"index\")\n",
    "children.iloc[1,-3] = 3\n",
    "children.sort_values(by=[\"value\", \"index\"], inplace = True) #index not necessary?\n",
    "children"
   ]
  },
  {
   "cell_type": "markdown",
   "metadata": {},
   "source": [
    "__distribute an amount__\n",
    "\n",
    "figure out how many nodes go under each side"
   ]
  },
  {
   "cell_type": "code",
   "execution_count": 10,
   "metadata": {},
   "outputs": [
    {
     "data": {
      "text/html": [
       "<div>\n",
       "<style scoped>\n",
       "    .dataframe tbody tr th:only-of-type {\n",
       "        vertical-align: middle;\n",
       "    }\n",
       "\n",
       "    .dataframe tbody tr th {\n",
       "        vertical-align: top;\n",
       "    }\n",
       "\n",
       "    .dataframe thead th {\n",
       "        text-align: right;\n",
       "    }\n",
       "</style>\n",
       "<table border=\"1\" class=\"dataframe\">\n",
       "  <thead>\n",
       "    <tr style=\"text-align: right;\">\n",
       "      <th></th>\n",
       "      <th>number</th>\n",
       "      <th>value</th>\n",
       "      <th>index</th>\n",
       "      <th>pay</th>\n",
       "    </tr>\n",
       "  </thead>\n",
       "  <tbody>\n",
       "    <tr>\n",
       "      <th>0</th>\n",
       "      <td>9</td>\n",
       "      <td>15.0</td>\n",
       "      <td>1.0</td>\n",
       "      <td>8.0</td>\n",
       "    </tr>\n",
       "    <tr>\n",
       "      <th>1</th>\n",
       "      <td>11</td>\n",
       "      <td>15.0</td>\n",
       "      <td>2.0</td>\n",
       "      <td>12.0</td>\n",
       "    </tr>\n",
       "  </tbody>\n",
       "</table>\n",
       "</div>"
      ],
      "text/plain": [
       "   number  value  index   pay\n",
       "0       9   15.0    1.0   8.0\n",
       "1      11   15.0    2.0  12.0"
      ]
     },
     "execution_count": 10,
     "metadata": {},
     "output_type": "execute_result"
    }
   ],
   "source": [
    "amount = 20\n",
    "\n",
    "#equalize children\n",
    "\n",
    "childDifference = children.iloc[1].value - children.iloc[0].value\n",
    "#this might be pointless because the smaller one is always at the top\n",
    "valueMissing = max(targetValue - children.iloc[0].value, 0)\n",
    "pay = min(childDifference,valueMissing, amount)\n",
    "\n",
    "amount -= pay\n",
    "children.iloc[0,-1]+= pay\n",
    "children.iloc[0,-3]+= pay\n",
    "\n",
    "children.sort_values(by=[\"index\"], inplace = True)\n",
    "# attempt to reach target\n",
    "\n",
    "valueMissing = max(targetValue - children.iloc[0].value, 0) *2\n",
    "pay = min(amount, valueMissing)\n",
    "amount -= pay\n",
    "half = int(pay/2)\n",
    "children.iloc[[0,1],[-1, -3]] += half\n",
    "\n",
    "leftover = pay - (half*2)\n",
    "children.iloc[[0],[-1, -3]] +=leftover #leftover is 1 or 0\n",
    "\n",
    "\n",
    "\n",
    "\n",
    "children"
   ]
  },
  {
   "cell_type": "markdown",
   "metadata": {},
   "source": [
    "__pick the right node numbers__"
   ]
  },
  {
   "cell_type": "code",
   "execution_count": 33,
   "metadata": {},
   "outputs": [
    {
     "name": "stdout",
     "output_type": "stream",
     "text": [
      "[[169, 171, 173, 175, 181, 183, 185, 187], [151, 149, 147, 145, 143, 141, 139, 137, 135, 133, 131, 129]]\n"
     ]
    }
   ],
   "source": [
    "generator = nodeGenerator(payNode.name)\n",
    "child = 1\n",
    "childToggle ={0:1,1:0}\n",
    "childrenStacks = [[],[]]\n",
    "pay = children.pay.sum()\n",
    "while pay > 0 :   \n",
    "    child = childToggle[child]    \n",
    "    potentialNode = next(generator)    \n",
    "    if not potentialNode in nodeSet.index:        \n",
    "        if len(childrenStacks[child]) < children.iloc[child,-1]:\n",
    "            childrenStacks[child].append(potentialNode)\n",
    "            pay -= 1        \n",
    "print(childrenStacks)\n",
    "childrenStacks = childrenStacks[0] + childrenStacks[1] #merge them as it doesnt matter later on in code"
   ]
  },
  {
   "cell_type": "markdown",
   "metadata": {},
   "source": [
    "__append rows__"
   ]
  },
  {
   "cell_type": "code",
   "execution_count": 34,
   "metadata": {},
   "outputs": [],
   "source": [
    "\n",
    "for node in childrenStacks:\n",
    "    generator = nodeGenerator(node)\n",
    "    next(generator) # skip the first one\n",
    "    id +=1 #### flawed if there are multiple trees\n",
    "    row = {\n",
    "        'id': id,\n",
    "        'sold':False,\n",
    "        'changed':True,\n",
    "        'tree_id': 1, # should be a varaiable\n",
    "        'childrenMissing': 62,\n",
    "        'user_id': 1,\n",
    "        'child1': next(generator),\n",
    "        'child1Value': 0,\n",
    "        'child2':next(generator),\n",
    "        'child2Value': 0,\n",
    "        'value': 299,    \n",
    "        }\n",
    "    nodeSet.loc[node] = row\n",
    "    \n"
   ]
  },
  {
   "cell_type": "markdown",
   "metadata": {},
   "source": [
    "__Update Parents__"
   ]
  },
  {
   "cell_type": "code",
   "execution_count": 36,
   "metadata": {},
   "outputs": [],
   "source": [
    "from tree.utilities import parentGenerator\n",
    "for node in childrenStacks:\n",
    "        parentspaid = 0\n",
    "        for nodePair in parentGenerator(node):\n",
    "            # update child Value\n",
    "            parentNodeNumber = nodePair[\"parent\"]\n",
    "            parentNode = nodeSet.loc[parentNodeNumber] #reference to the node\n",
    "            if parentNode.child1 == nodePair[\"child\"]:\n",
    "                parentNode.child1Value +=1                                         \n",
    "            if parentNode.child2 ==  nodePair[\"child\"]:\n",
    "                parentNode.child2Value +=1\n",
    "                \n",
    "            #update childrenMissing value\n",
    "            soldBefore = parentNode.childrenMissing == 0            \n",
    "            child1Value = parentNode.child1Value           \n",
    "            child1Value = child1Value if child1Value <32 else 31\n",
    "            child2Value = parentNode.child2Value\n",
    "            child2Value = child2Value if child2Value <32 else 31            \n",
    "            parentNode.childrenMissing = 62 - child1Value - child2Value\n",
    "            soldNow = parentNode.childrenMissing == 0\n",
    "            \n",
    "            if (soldNow and not soldBefore):# if the node just got sold\n",
    "                parentNode.sold = True"
   ]
  },
  {
   "cell_type": "code",
   "execution_count": 124,
   "metadata": {},
   "outputs": [
    {
     "data": {
      "text/plain": [
       "{'id': 332,\n",
       " 'tree_id': 1,\n",
       " 'childrenMissing': 62,\n",
       " 'user_id': 1,\n",
       " 'child1': 165,\n",
       " 'child1Value': 0,\n",
       " 'child2': 167,\n",
       " 'child2Value': 0}"
      ]
     },
     "execution_count": 124,
     "metadata": {},
     "output_type": "execute_result"
    }
   ],
   "source": [
    "mario = nodeSet.loc[\n",
    "    nodeSet.changed==True,\n",
    "    [\n",
    "        \"id\",\n",
    "        \"tree_id\",\n",
    "        \"childrenMissing\",\n",
    "        \"user_id\",\n",
    "        \"child1\",\n",
    "        \"child1Value\",\n",
    "        \"child2\",\n",
    "        \"child2Value\"\n",
    "    ]].copy()\n",
    "#mario.apply(lambda node: print(node))\n",
    "#mario.drop(mario[:5].index, inplace = True)\n",
    "#mario.iloc[:5]\n",
    "#mario.to_dict(orient=\"record\" )[0]\n",
    "mario.to_dict(orient=\"record\" )[0] "
   ]
  },
  {
   "cell_type": "code",
   "execution_count": 125,
   "metadata": {},
   "outputs": [
    {
     "data": {
      "text/plain": [
       "<Node: number: 1 id: 332 , tree: 1>"
      ]
     },
     "execution_count": 125,
     "metadata": {},
     "output_type": "execute_result"
    }
   ],
   "source": [
    "Node.objects.create(**mario.to_dict(orient=\"record\" )[0] )"
   ]
  }
 ],
 "metadata": {
  "kernelspec": {
   "display_name": "Python 3",
   "language": "python",
   "name": "python3"
  },
  "language_info": {
   "codemirror_mode": {
    "name": "ipython",
    "version": 3
   },
   "file_extension": ".py",
   "mimetype": "text/x-python",
   "name": "python",
   "nbconvert_exporter": "python",
   "pygments_lexer": "ipython3",
   "version": "3.8.2"
  }
 },
 "nbformat": 4,
 "nbformat_minor": 4
}
